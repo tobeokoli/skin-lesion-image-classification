{
 "cells": [
  {
   "cell_type": "markdown",
   "metadata": {},
   "source": [
    "## Import Statements\n",
    "Import all the packages needed for the script"
   ]
  },
  {
   "cell_type": "code",
   "execution_count": null,
   "metadata": {},
   "outputs": [],
   "source": [
    "import tensorflow as tf\n",
    "from tensorflow import keras\n",
    "from keras.applications.resnet import ResNet50\n",
    "from tensorflow.python.keras.layers import Flatten, Dense\n",
    "from tensorflow.python.keras.models import Sequential"
   ]
  },
  {
   "cell_type": "markdown",
   "metadata": {},
   "source": [
    "## Prepare and process the training and validation dataset"
   ]
  },
  {
   "cell_type": "code",
   "execution_count": null,
   "metadata": {},
   "outputs": [],
   "source": [
    "training_ds = tf.keras.utils.image_dataset_from_directory(\n",
    "    directory='dataset',\n",
    "    validation_split = 0.2,\n",
    "    subset = 'training',\n",
    "    seed = 123,\n",
    "    label_mode='categorical',\n",
    "    image_size = (224, 224),\n",
    "    batch_size = 32\n",
    ")\n",
    "\n",
    "validation_ds = tf.keras.utils.image_dataset_from_directory(\n",
    "    directory='dataset', \n",
    "    validation_split = 0.2,\n",
    "    subset = 'validation',\n",
    "    seed = 123,\n",
    "    label_mode='categorical',\n",
    "    image_size = (224, 224),\n",
    "    batch_size = 32\n",
    ")\n",
    "\n",
    "class_names = training_ds.class_names\n",
    "print(class_names)"
   ]
  },
  {
   "cell_type": "markdown",
   "metadata": {},
   "source": [
    "## Implement the Convolutional Neural Network \n",
    "\n",
    "This is a sequential neural network that contains a ResNet50 layer, a Flattening layer and 2 Dense layers"
   ]
  },
  {
   "cell_type": "code",
   "execution_count": null,
   "metadata": {},
   "outputs": [],
   "source": [
    "resnet_model = Sequential()\n",
    "\n",
    "# create resnet model\n",
    "pretrained_model = ResNet50(include_top=False, weights='imagenet', pooling='max', input_shape=(224, 224, 3))\n",
    "\n",
    "# dont train the resnet again\n",
    "for layer in pretrained_model.layers:\n",
    "    layer.trainable = False\n",
    "\n",
    "# adding layers to the neural network\n",
    "resnet_model.add(pretrained_model)\n",
    "resnet_model.add(Flatten())\n",
    "resnet_model.add(Dense(64, activation='relu'))\n",
    "resnet_model.add(Dense(2, activation='sigmoid'))"
   ]
  },
  {
   "cell_type": "markdown",
   "metadata": {},
   "source": [
    "## Compile your model"
   ]
  },
  {
   "cell_type": "code",
   "execution_count": null,
   "metadata": {},
   "outputs": [],
   "source": [
    "resnet_model.compile(optimizer='adam', loss='categorical_crossentropy', metrics=['accuracy', tf.keras.metrics.Precision(), tf.keras.metrics.Recall()])"
   ]
  },
  {
   "cell_type": "markdown",
   "metadata": {},
   "source": [
    "## Train(fit) the model with your dataset\n"
   ]
  },
  {
   "cell_type": "code",
   "execution_count": null,
   "metadata": {},
   "outputs": [],
   "source": [
    "resnet_model.fit(training_ds, validation_data=validation_ds, epochs=6, batch_size=32)"
   ]
  },
  {
   "cell_type": "markdown",
   "metadata": {},
   "source": [
    "## Evaluate the model to get the true metrics using a test dataset"
   ]
  },
  {
   "cell_type": "code",
   "execution_count": null,
   "metadata": {},
   "outputs": [],
   "source": [
    "# test_loss, test_accuracy, test_precision, test_recall, test_f1_score = resnet_model.evaluate(test_images, test_labels)\n",
    "\n",
    "# print('Test accuracy:', test_accuracy)\n",
    "# print('Test precision:', test_precision)\n",
    "# print('Test recall:', test_recall)\n",
    "# print('Test f1-score:', test_f1_score)"
   ]
  },
  {
   "cell_type": "markdown",
   "metadata": {},
   "source": [
    "## Use the model to predict an image\n",
    "Firstly load and process the image and then use it to predict"
   ]
  },
  {
   "cell_type": "code",
   "execution_count": null,
   "metadata": {},
   "outputs": [],
   "source": [
    "import numpy as np\n",
    "from PIL import Image\n",
    "\n",
    "# processing the image\n",
    "img = Image.open('test_image.jpg')\n",
    "img = img.resize((224, 224))\n",
    "img = np.array(img) # convert image to array \n",
    "img = img / 255.0  # normalize pixel values between 0 and 1\n",
    "img = np.expand_dims(img, axis=0)  # add batch dimension\n",
    "\n",
    "# Make a prediction\n",
    "predictions = resnet_model.predict(img)\n",
    "# print(predictions)\n",
    "predicted_class = np.argmax(predictions)\n",
    "# print(predicted_class)\n",
    "\n",
    "# Print the predicted class index\n",
    "print('This image is: ' + class_names[predicted_class])"
   ]
  },
  {
   "cell_type": "markdown",
   "metadata": {},
   "source": [
    "## Save the model"
   ]
  },
  {
   "cell_type": "code",
   "execution_count": null,
   "metadata": {},
   "outputs": [],
   "source": [
    "resnet_model.save('my_resnet_model')"
   ]
  }
 ],
 "metadata": {
  "kernelspec": {
   "display_name": "Python 3.9.2 ('venv': venv)",
   "language": "python",
   "name": "python3"
  },
  "language_info": {
   "codemirror_mode": {
    "name": "ipython",
    "version": 3
   },
   "file_extension": ".py",
   "mimetype": "text/x-python",
   "name": "python",
   "nbconvert_exporter": "python",
   "pygments_lexer": "ipython3",
   "version": "3.9.2"
  },
  "orig_nbformat": 4,
  "vscode": {
   "interpreter": {
    "hash": "d785896234b50cf2fb681ba8969a8fa3a97728af16859a36e34755a7e5a5a604"
   }
  }
 },
 "nbformat": 4,
 "nbformat_minor": 2
}
